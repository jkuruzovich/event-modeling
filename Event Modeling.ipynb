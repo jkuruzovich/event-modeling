{
 "cells": [
  {
   "cell_type": "markdown",
   "metadata": {},
   "source": [
    "## Event Based Modeling and Time Series\n",
    "\n"
   ]
  },
  {
   "cell_type": "markdown",
   "metadata": {},
   "source": [
    "## Introducing Time Series Data\n",
    "- Up until now, all of our examples have not involved time. \n",
    "\n",
    "- Many of the teams are facing data that varies over time. This can be in either *time series* or *event* data. \n",
    "\n",
    "- Time series typically involves regular observations made periodically over time.\n",
    "\n",
    "| time | organization | var1 | var2 |\n",
    "|------|--------------|------|------|\n",
    "| 2007 | org1         | 8    | 9    |\n",
    "| 2008 | org1         | 9    | 10   |\n",
    "| 2009 | org1         | 8    | 11   |\n",
    "| 2007 | org2         | 8    | 9    |\n",
    "| 2008 | org2         | 9    | 10   |\n",
    "| 2009 | org2         | 8    | 11   |\n",
    "\n",
    "- This is a great overview of event based models.   \n",
    "\n",
    "[http://snowplowanalytics.com/blog/2016/03/16/introduction-to-event-data-modeling/](http://snowplowanalytics.com/blog/2016/03/16/introduction-to-event-data-modeling/)"
   ]
  },
  {
   "cell_type": "markdown",
   "metadata": {},
   "source": [
    "## Option 1: Aggregate Accross All Time/Events\n",
    "\n",
    "This level of aggreagation simplifies the process in that it removes the role of time in the event. \n",
    "\n",
    "#### Lead/Opportunity/Sale Example\n",
    "\n",
    "Let's say you have data on an individual over time that goes through several different stages. If you aggregate across all time, all of the analysis occurs at the level of the user rather than the user-time. \n",
    "\n",
    "#### Let's model the likelyhood of Sale or Opportunity\n",
    "- Here we can aggregate across all users/activities across the entire user experience.  All activities are aggregated to the user level.\n",
    "- This is useful, but whether something will \"eventually\" close doesn't help a lot if you have to decide what is going to close next quarter. \n",
    "\n",
    "[TBD Example Data]\n",
    "\n",
    "### Watch out for Unbalanced Classes\n",
    "- [Unbalanced Classes](http://machinelearningmastery.com/tactics-to-combat-imbalanced-classes-in-your-machine-learning-dataset/)\n"
   ]
  },
  {
   "cell_type": "markdown",
   "metadata": {
    "collapsed": true
   },
   "source": [
    "#### Introducing Time! \n",
    "- However, to make it much more actionable, we need to introduce *time windows.*  \n",
    "- A time window is a period of time under which an aggregation occurs. For example, *will the lead become an opportunity in the next 30 days* or *will the opportunity close within the next 30 days/6 months*.   \n",
    "- For time series problems like this, data leakage can be a real problem. \n",
    "\n",
    "\"In the context of predictive modeling, it is implicitly required that a legitimate model only build on features with information from a time earlier (or sometimes, no later) than that of the target.\" From [Leakage in Data Mining: Formulation, Detection, and Avoidance](http://dstillery.com/wp-content/uploads/2014/05/Leakage-in-Data-Mining-Formulation-Detection-and-Avoidance.pdf).\n",
    "\n",
    "-For example, if you aggregate activities that happen after the point in tin, it will bias the analysis. \n",
    "- This is addressed through lagging data.  Values from the past time window (example, t-30 days) are used to model the outcome variable. \n"
   ]
  },
  {
   "cell_type": "markdown",
   "metadata": {},
   "source": [
    "\n",
    "#### Introducing a Continuous DV\n",
    "- In the example above, we are talking about a binary classification problem.  However, still this doesn't get at what would sales for the next month be.  \n",
    "- To accomplish that, \n",
    "\n",
    "It would be possible to aggregate across multiple sales to create a continuous value for revenue.  This would allow a full time series style of analysis. \n",
    "\n"
   ]
  },
  {
   "cell_type": "code",
   "execution_count": null,
   "metadata": {
    "collapsed": true
   },
   "outputs": [],
   "source": []
  }
 ],
 "metadata": {
  "kernelspec": {
   "display_name": "Python 3",
   "language": "python",
   "name": "python3"
  },
  "language_info": {
   "codemirror_mode": {
    "name": "ipython",
    "version": 3
   },
   "file_extension": ".py",
   "mimetype": "text/x-python",
   "name": "python",
   "nbconvert_exporter": "python",
   "pygments_lexer": "ipython3",
   "version": "3.5.2"
  }
 },
 "nbformat": 4,
 "nbformat_minor": 2
}
